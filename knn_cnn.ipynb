{
 "cells": [
  {
   "cell_type": "code",
   "execution_count": 2,
   "metadata": {},
   "outputs": [
    {
     "name": "stdout",
     "output_type": "stream",
     "text": [
      "10500\n",
      "10500\n",
      "1750\n",
      "1750\n",
      "1750\n",
      "1750\n"
     ]
    }
   ],
   "source": [
    "import numpy as np\n",
    "import tensorflow as tf\n",
    "from tensorflow import keras\n",
    "from keras import optimizers, layers\n",
    "from keras.models import Sequential\n",
    "from keras.layers import Dense, Dropout\n",
    "import os\n",
    "import glob\n",
    "from glob import glob\n",
    "from tensorflow.keras.preprocessing.text import text_to_word_sequence\n",
    "from sklearn.preprocessing import LabelEncoder\n",
    "from sklearn.model_selection import train_test_split\n",
    "from tensorflow.keras.callbacks import EarlyStopping,ModelCheckpoint\n",
    "import cv2\n",
    "import random\n",
    "from matplotlib import pyplot as plt\n",
    "from keras.models import Sequential\n",
    "from sklearn.manifold import TSNE\n",
    "from sklearn.datasets import load_digits\n",
    "import pandas as pd\n",
    "from sklearn.decomposition import PCA\n",
    "\n",
    "base_dir = r'C:\\Users\\admin\\OneDrive - 한양대학교\\dataset\\image'\n",
    "\n",
    "train_dir = os.path.join(base_dir, 'train')\n",
    "val_dir = os.path.join(base_dir, 'val')\n",
    "test_dir = os.path.join(base_dir, 'test')\n",
    "print(\"gittest\")\n",
    "train_LOS_dir = os.path.join(train_dir, 'LOS')\n",
    "train_NLOS_dir = os.path.join(train_dir, 'NLOS')\n",
    "val_LOS_dir = os.path.join(val_dir, 'LOS')\n",
    "val_NLOS_dir = os.path.join(val_dir, 'NLOS')\n",
    "test_LOS_dir = os.path.join(test_dir, 'LOS')\n",
    "test_NLOS_dir = os.path.join(test_dir, 'NLOS')\n",
    "\n",
    "print(len(os.listdir(train_LOS_dir)))\n",
    "print(len(os.listdir(train_NLOS_dir)))\n",
    "print(len(os.listdir(val_LOS_dir)))\n",
    "print(len(os.listdir(val_NLOS_dir)))\n",
    "print(len(os.listdir(test_LOS_dir)))\n",
    "print(len(os.listdir(test_NLOS_dir)))\n",
    "\n"
   ]
  },
  {
   "cell_type": "code",
   "execution_count": 13,
   "metadata": {},
   "outputs": [
    {
     "name": "stdout",
     "output_type": "stream",
     "text": [
      "Found 21000 images belonging to 2 classes.\n",
      "Found 3500 images belonging to 2 classes.\n",
      "Found 3500 images belonging to 2 classes.\n"
     ]
    }
   ],
   "source": [
    "from tensorflow.keras.preprocessing.image import ImageDataGenerator\n",
    "\n",
    "\n",
    "train_datagen = ImageDataGenerator( rescale = 1.0/255. )\n",
    "val_datagen  = ImageDataGenerator( rescale = 1.0/255. )\n",
    "test_datagen  = ImageDataGenerator( rescale = 1.0/255. )\n",
    "\n",
    "train_generator = train_datagen.flow_from_directory(train_dir,\n",
    "                                                  batch_size=64,\n",
    "                                                  class_mode='categorical',\n",
    "                                                  target_size=(32, 32))\n",
    "validation_generator =  val_datagen.flow_from_directory(val_dir,\n",
    "                                                       batch_size=64,\n",
    "                                                       class_mode  = 'categorical',\n",
    "                                                       target_size = (32, 32))\n",
    "test_generator =  test_datagen.flow_from_directory(test_dir,\n",
    "                                                       batch_size=64,\n",
    "                                                       class_mode  = 'categorical',\n",
    "                                                       target_size = (32, 32))"
   ]
  },
  {
   "cell_type": "code",
   "execution_count": 14,
   "metadata": {},
   "outputs": [
    {
     "name": "stdout",
     "output_type": "stream",
     "text": [
      "Model: \"sequential_3\"\n",
      "_________________________________________________________________\n",
      "Layer (type)                 Output Shape              Param #   \n",
      "=================================================================\n",
      "conv2d_12 (Conv2D)           (None, 30, 30, 128)       3584      \n",
      "_________________________________________________________________\n",
      "max_pooling2d_6 (MaxPooling2 (None, 15, 15, 128)       0         \n",
      "_________________________________________________________________\n",
      "conv2d_13 (Conv2D)           (None, 13, 13, 64)        73792     \n",
      "_________________________________________________________________\n",
      "max_pooling2d_7 (MaxPooling2 (None, 6, 6, 64)          0         \n",
      "_________________________________________________________________\n",
      "conv2d_14 (Conv2D)           (None, 4, 4, 32)          18464     \n",
      "_________________________________________________________________\n",
      "conv2d_15 (Conv2D)           (None, 2, 2, 32)          9248      \n",
      "_________________________________________________________________\n",
      "dropout_6 (Dropout)          (None, 2, 2, 32)          0         \n",
      "_________________________________________________________________\n",
      "flatten_3 (Flatten)          (None, 128)               0         \n",
      "_________________________________________________________________\n",
      "dense_6 (Dense)              (None, 32)                4128      \n",
      "_________________________________________________________________\n",
      "dropout_7 (Dropout)          (None, 32)                0         \n",
      "_________________________________________________________________\n",
      "dense_7 (Dense)              (None, 2)                 66        \n",
      "=================================================================\n",
      "Total params: 109,282\n",
      "Trainable params: 109,282\n",
      "Non-trainable params: 0\n",
      "_________________________________________________________________\n"
     ]
    }
   ],
   "source": [
    "model = Sequential()\n",
    "model.add(layers.Conv2D(128, (3, 3), activation='relu', input_shape=(32, 32, 3)))\n",
    "model.add(layers.MaxPooling2D((2, 2)))\n",
    "model.add(layers.Conv2D(64, (3, 3), activation='relu'))\n",
    "model.add(layers.MaxPooling2D((2, 2)))\n",
    "model.add(layers.Conv2D(32, (3, 3), activation='relu'))\n",
    "model.add(layers.Conv2D(32, (3, 3), activation='relu'))\n",
    "model.add(Dropout(0.25))\n",
    "model.add(layers.Flatten())\n",
    "model.add(layers.Dense(32, activation='relu'))\n",
    "model.add(Dropout(0.25))\n",
    "model.add(layers.Dense(2, activation='softmax'))\n",
    "\n",
    "model.summary()"
   ]
  },
  {
   "cell_type": "code",
   "execution_count": 15,
   "metadata": {},
   "outputs": [
    {
     "name": "stdout",
     "output_type": "stream",
     "text": [
      "Epoch 1/20\n",
      "329/329 [==============================] - 115s 350ms/step - loss: 0.5489 - accuracy: 0.7102 - val_loss: 0.4750 - val_accuracy: 0.7749\n",
      "Epoch 2/20\n",
      "329/329 [==============================] - 98s 298ms/step - loss: 0.4821 - accuracy: 0.7671 - val_loss: 0.4642 - val_accuracy: 0.7743\n",
      "Epoch 3/20\n",
      "329/329 [==============================] - 97s 294ms/step - loss: 0.4673 - accuracy: 0.7771 - val_loss: 0.4513 - val_accuracy: 0.7786\n",
      "Epoch 4/20\n",
      "329/329 [==============================] - 95s 288ms/step - loss: 0.4650 - accuracy: 0.7793 - val_loss: 0.4495 - val_accuracy: 0.7809\n",
      "Epoch 5/20\n",
      "329/329 [==============================] - 94s 287ms/step - loss: 0.4579 - accuracy: 0.7845 - val_loss: 0.4383 - val_accuracy: 0.7914\n",
      "Epoch 6/20\n",
      "329/329 [==============================] - 95s 288ms/step - loss: 0.4556 - accuracy: 0.7845 - val_loss: 0.4372 - val_accuracy: 0.7929\n",
      "Epoch 7/20\n",
      "329/329 [==============================] - 95s 290ms/step - loss: 0.4506 - accuracy: 0.7866 - val_loss: 0.4383 - val_accuracy: 0.7914\n",
      "Epoch 8/20\n",
      "329/329 [==============================] - 95s 288ms/step - loss: 0.4435 - accuracy: 0.7923 - val_loss: 0.4352 - val_accuracy: 0.7969\n",
      "Epoch 9/20\n",
      "329/329 [==============================] - 95s 288ms/step - loss: 0.4423 - accuracy: 0.7943 - val_loss: 0.4338 - val_accuracy: 0.7997\n",
      "Epoch 10/20\n",
      "329/329 [==============================] - 98s 299ms/step - loss: 0.4379 - accuracy: 0.7967 - val_loss: 0.4283 - val_accuracy: 0.8020\n",
      "Epoch 11/20\n",
      "329/329 [==============================] - 97s 294ms/step - loss: 0.4375 - accuracy: 0.7967 - val_loss: 0.4255 - val_accuracy: 0.8026\n",
      "Epoch 12/20\n",
      "329/329 [==============================] - 97s 295ms/step - loss: 0.4357 - accuracy: 0.7960 - val_loss: 0.4302 - val_accuracy: 0.8026\n",
      "Epoch 13/20\n",
      "329/329 [==============================] - 96s 291ms/step - loss: 0.4292 - accuracy: 0.8010 - val_loss: 0.4430 - val_accuracy: 0.7957\n",
      "Epoch 14/20\n",
      "329/329 [==============================] - 96s 291ms/step - loss: 0.4291 - accuracy: 0.8019 - val_loss: 0.4458 - val_accuracy: 0.7934\n",
      "Epoch 15/20\n",
      "329/329 [==============================] - 100s 303ms/step - loss: 0.4256 - accuracy: 0.8042 - val_loss: 0.4261 - val_accuracy: 0.8000\n",
      "Epoch 16/20\n",
      "329/329 [==============================] - 96s 293ms/step - loss: 0.4232 - accuracy: 0.8070 - val_loss: 0.4324 - val_accuracy: 0.7989\n",
      "Epoch 17/20\n",
      "329/329 [==============================] - 95s 289ms/step - loss: 0.4189 - accuracy: 0.8091 - val_loss: 0.4200 - val_accuracy: 0.8091\n",
      "Epoch 18/20\n",
      "329/329 [==============================] - 95s 290ms/step - loss: 0.4204 - accuracy: 0.8067 - val_loss: 0.4239 - val_accuracy: 0.8069\n",
      "Epoch 19/20\n",
      "329/329 [==============================] - 95s 289ms/step - loss: 0.4148 - accuracy: 0.8086 - val_loss: 0.4201 - val_accuracy: 0.8080\n",
      "Epoch 20/20\n",
      "329/329 [==============================] - 97s 296ms/step - loss: 0.4122 - accuracy: 0.8128 - val_loss: 0.4215 - val_accuracy: 0.8066\n"
     ]
    }
   ],
   "source": [
    "adam = keras.optimizers.Adam(lr=0.001)\n",
    "es = [EarlyStopping(monitor ='val_loss',mode='min',patience =20), ModelCheckpoint(filepath='best_model.h5',monitor='val_loss',save_best_only=True)]\n",
    "\n",
    "model.compile(optimizer=adam,loss='categorical_crossentropy',metrics=['accuracy'])\n",
    "hist = model.fit(train_generator, epochs=20, batch_size=128, validation_data= validation_generator ,callbacks=[es])"
   ]
  },
  {
   "cell_type": "code",
   "execution_count": 34,
   "metadata": {},
   "outputs": [
    {
     "data": {
      "text/plain": [
       "<matplotlib.legend.Legend at 0x1f8d01f8790>"
      ]
     },
     "execution_count": 34,
     "metadata": {},
     "output_type": "execute_result"
    },
    {
     "data": {
      "image/png": "[encoded data removed]",
      "text/plain": [
       "<Figure size 864x288 with 2 Axes>"
      ]
     },
     "metadata": {
      "needs_background": "light"
     },
     "output_type": "display_data"
    }
   ],
   "source": [
    "plt.figure(figsize=(12,4))\n",
    "plt.subplot(1, 2, 1)\n",
    "plt.plot(hist.history['accuracy'])\n",
    "plt.plot(hist.history['val_accuracy'])\n",
    "plt.title('model accuracy')\n",
    "plt.xlabel('epoch')\n",
    "plt.ylabel('accuracy')\n",
    "plt.legend(['train', 'validation'])\n",
    "\n",
    "plt.subplot(1, 2, 2)\n",
    "plt.plot(hist.history['loss'])\n",
    "plt.plot(hist.history['val_loss'])\n",
    "plt.title('model loss')\n",
    "plt.xlabel('epoch')\n",
    "plt.ylabel('loss')\n",
    "plt.legend(['train', 'validation'])"
   ]
  },
  {
   "cell_type": "code",
   "execution_count": 98,
   "metadata": {},
   "outputs": [
    {
     "name": "stdout",
     "output_type": "stream",
     "text": [
      "63/63 [==============================] - 1s 18ms/step - loss: 0.4198 - accuracy: 0.8040\n"
     ]
    }
   ],
   "source": [
    "import seaborn as sns\n",
    "from tensorflow.keras import backend as K\n",
    "from sklearn.neighbors import KNeighborsClassifier\n",
    "from sklearn.metrics import classification_report, confusion_matrix\n",
    "\n",
    "X_test = []\n",
    "y_test = []\n",
    "\n",
    "for X,y in train_generator:\n",
    "    X_test.append(X)\n",
    "    y_test.append(y)\n",
    "#cnn evaluation_process\n",
    "loss_and_metrics = model.evaluate(X_test, y_test, batch_size=64)\n",
    "y_pred = model.predict(X_test)\n",
    "y_pred = np.ceil(y_pred-0.5)\n",
    "cf_matrix = confusion_matrix(y_test.argmax(axis=1), y_pred.argmax(axis=1))\n",
    "\n",
    "#knn evaluation_process\n",
    "layerIndex = 8\n",
    "func = K.function([model.get_layer(index=0).input], model.get_layer(index=layerIndex).output)\n",
    "layerOutput = func([X])  # input_data is a numpy array\n",
    "\n",
    "X_train2,X_test2,y_train2,y_test2 = train_test_split(layerOutput, y_test ,test_size=0.3,random_state=1004)"
   ]
  },
  {
   "cell_type": "code",
   "execution_count": 99,
   "metadata": {},
   "outputs": [
    {
     "name": "stdout",
     "output_type": "stream",
     "text": [
      "[0.4198485314846039, 0.8040000200271606]\n",
      "[[1799  171]\n",
      " [ 613 1417]]\n",
      "[[3775  389]\n",
      " [1155 3081]]\n",
      "              precision    recall  f1-score   support\n",
      "\n",
      "           0       0.75      0.91      0.82      1970\n",
      "           1       0.89      0.70      0.78      2030\n",
      "\n",
      "   micro avg       0.80      0.80      0.80      4000\n",
      "   macro avg       0.82      0.81      0.80      4000\n",
      "weighted avg       0.82      0.80      0.80      4000\n",
      " samples avg       0.80      0.80      0.80      4000\n",
      "\n",
      "              precision    recall  f1-score   support\n",
      "\n",
      "           0       0.77      0.91      0.83      4164\n",
      "           1       0.89      0.73      0.80      4236\n",
      "\n",
      "    accuracy                           0.82      8400\n",
      "   macro avg       0.83      0.82      0.81      8400\n",
      "weighted avg       0.83      0.82      0.81      8400\n",
      "\n"
     ]
    }
   ],
   "source": [
    "classifier = KNeighborsClassifier(n_neighbors=150)\n",
    "classifier.fit(X_train2, y_train2)\n",
    "\n",
    "y_pred2 = classifier.predict(X_test2)\n",
    "cf_matrix2 = confusion_matrix(y_test2, y_pred2)\n",
    "\n",
    "#confusion matrix\n",
    "print(str(loss_and_metrics))\n",
    "print(str(cf_matrix))\n",
    "print(str(cf_matrix2))\n",
    "print(classification_report(y_test, y_pred))\n",
    "print(classification_report(y_test2, y_pred2))"
   ]
  },
  {
   "cell_type": "code",
   "execution_count": 101,
   "metadata": {},
   "outputs": [
    {
     "data": {
      "text/plain": [
       "<AxesSubplot:>"
      ]
     },
     "execution_count": 101,
     "metadata": {},
     "output_type": "execute_result"
    },
    {
     "data": {
      "image/png": "[encoded data removed]",
      "text/plain": [
       "<Figure size 432x288 with 4 Axes>"
      ]
     },
     "metadata": {
      "needs_background": "light"
     },
     "output_type": "display_data"
    }
   ],
   "source": [
    "fig, ax = plt.subplots(1,2)\n",
    "sns.heatmap(cf_matrix/np.sum(cf_matrix), annot=True, fmt = '.2%', cmap='Blues' ,ax=ax[0])\n",
    "sns.heatmap(cf_matrix2/np.sum(cf_matrix2), annot=True, fmt = '.2%', cmap='Blues',ax=ax[1])"
   ]
  }
 ],
 "metadata": {
  "interpreter": {
   "hash": "ef7f9a8012d9131766e31894c279374cc63c73121ed4db3b9e67a294a4bf0e74"
  },
  "kernelspec": {
   "display_name": "Python 3.8.8 64-bit ('base': conda)",
   "language": "python",
   "name": "python3"
  },
  "language_info": {
   "codemirror_mode": {
    "name": "ipython",
    "version": 3
   },
   "file_extension": ".py",
   "mimetype": "text/x-python",
   "name": "python",
   "nbconvert_exporter": "python",
   "pygments_lexer": "ipython3",
   "version": "3.8.8"
  },
  "orig_nbformat": 4
 },
 "nbformat": 4,
 "nbformat_minor": 2
}
