{
 "cells": [
  {
   "cell_type": "code",
   "execution_count": 2,
   "metadata": {},
   "outputs": [
    {
     "name": "stdout",
     "output_type": "stream",
     "text": [
      "['LOS_9_7.jpg', 'NLOS_1000_1.jpg', 'NLOS_1000_2.jpg', 'NLOS_1000_3.jpg', 'NLOS_1000_4.jpg', 'NLOS_1000_5.jpg']\n",
      "['los', '1000', '1', 'jpg']\n"
     ]
    }
   ],
   "source": [
    "import numpy as np\n",
    "import tensorflow as tf\n",
    "from tensorflow import keras\n",
    "from keras import optimizers, layers\n",
    "from keras.models import Sequential\n",
    "from keras.layers import Dense, Dropout\n",
    "import os\n",
    "import glob\n",
    "from glob import glob\n",
    "from tensorflow.keras.preprocessing.text import text_to_word_sequence\n",
    "from sklearn.preprocessing import LabelEncoder\n",
    "from sklearn.model_selection import train_test_split\n",
    "from tensorflow.keras.callbacks import EarlyStopping,ModelCheckpoint\n",
    "import cv2\n",
    "import random\n",
    "from matplotlib import pyplot as plt\n",
    "from keras.models import Sequential\n",
    "from sklearn.manifold import TSNE\n",
    "from sklearn.datasets import load_digits\n",
    "import pandas as pd\n",
    "from sklearn.decomposition import PCA\n",
    "\n",
    "data_dir = os.chdir(r'C:\\Users\\admin\\OneDrive - 한양대학교\\dataset\\image\\cw_data')\n",
    "data_list = glob('*.jpg')\n",
    "print(data_list[13999:14005])\n",
    "print(text_to_word_sequence(data_list[0]))\n"
   ]
  },
  {
   "cell_type": "code",
   "execution_count": 3,
   "metadata": {},
   "outputs": [],
   "source": [
    "label = []\n",
    "data_height = 32\n",
    "data_width =32\n",
    "channel_n = 3\n",
    "batch_size = len(data_list)\n",
    "images = np.zeros((batch_size, data_height, data_width, channel_n))\n",
    "for n, path in enumerate(data_list[:batch_size]):\n",
    "# lable \n",
    "    token = text_to_word_sequence(data_list[n])\n",
    "    label.append(token[0])\n",
    "# image transform\n",
    "    image = cv2.imread(data_list[n])\n",
    "    image = cv2.resize(image, (32, 32))/255\n",
    "    images[n, :, :, :] =image\n"
   ]
  },
  {
   "cell_type": "code",
   "execution_count": 249,
   "metadata": {},
   "outputs": [
    {
     "name": "stdout",
     "output_type": "stream",
     "text": [
      "(21000, 32, 32, 3)\n",
      "(21000, 2)\n",
      "(3500, 32, 32, 3)\n",
      "(3500, 2)\n",
      "(3500, 32, 32, 3)\n",
      "(3500, 2)\n"
     ]
    }
   ],
   "source": [
    "label = np.array(label)\n",
    "items = label\n",
    "encoder = LabelEncoder()\n",
    "encoder.fit(items)\n",
    "label = encoder.transform(items)\n",
    "label_encoded = keras.utils.to_categorical(encoder.transform(items))\n",
    "\n",
    "X =images\n",
    "y = label_encoded\n",
    "\n",
    "X_train=np.concatenate([X[0:10500],X[14000:24500]])\n",
    "y_train=np.concatenate([y[0:10500],y[14000:24500]])\n",
    "X_val=np.concatenate([X[10500:12250],X[24500:26250]])\n",
    "y_val=np.concatenate([y[10500:12250],y[24500:26250]])\n",
    "X_test=np.concatenate([X[12250:14000],X[26250:]])\n",
    "y_test=np.concatenate([y[12250:14000],y[26250:]])\n",
    "\n",
    "print(X_train.shape)\n",
    "print(y_train.shape)\n",
    "print(X_val.shape)\n",
    "print(y_val.shape)\n",
    "print(X_test.shape)\n",
    "print(y_test.shape)\n"
   ]
  },
  {
   "cell_type": "code",
   "execution_count": 250,
   "metadata": {},
   "outputs": [
    {
     "name": "stdout",
     "output_type": "stream",
     "text": [
      "Model: \"sequential_21\"\n",
      "_________________________________________________________________\n",
      "Layer (type)                 Output Shape              Param #   \n",
      "=================================================================\n",
      "conv2d_84 (Conv2D)           (None, 30, 30, 128)       3584      \n",
      "_________________________________________________________________\n",
      "max_pooling2d_42 (MaxPooling (None, 15, 15, 128)       0         \n",
      "_________________________________________________________________\n",
      "conv2d_85 (Conv2D)           (None, 13, 13, 64)        73792     \n",
      "_________________________________________________________________\n",
      "max_pooling2d_43 (MaxPooling (None, 6, 6, 64)          0         \n",
      "_________________________________________________________________\n",
      "conv2d_86 (Conv2D)           (None, 4, 4, 32)          18464     \n",
      "_________________________________________________________________\n",
      "conv2d_87 (Conv2D)           (None, 2, 2, 32)          9248      \n",
      "_________________________________________________________________\n",
      "dropout_21 (Dropout)         (None, 2, 2, 32)          0         \n",
      "_________________________________________________________________\n",
      "flatten_21 (Flatten)         (None, 128)               0         \n",
      "_________________________________________________________________\n",
      "dense_42 (Dense)             (None, 32)                4128      \n",
      "_________________________________________________________________\n",
      "dense_43 (Dense)             (None, 2)                 66        \n",
      "=================================================================\n",
      "Total params: 109,282\n",
      "Trainable params: 109,282\n",
      "Non-trainable params: 0\n",
      "_________________________________________________________________\n"
     ]
    }
   ],
   "source": [
    "model = Sequential()\n",
    "model.add(layers.Conv2D(128, (3, 3), activation='relu', input_shape=(32, 32, 3)))\n",
    "model.add(layers.MaxPooling2D((2, 2)))\n",
    "model.add(layers.Conv2D(64, (3, 3), activation='relu'))\n",
    "model.add(layers.MaxPooling2D((2, 2)))\n",
    "model.add(layers.Conv2D(32, (3, 3), activation='relu'))\n",
    "model.add(layers.Conv2D(32, (3, 3), activation='relu'))\n",
    "model.add(Dropout(0.25))\n",
    "model.add(layers.Flatten())\n",
    "model.add(layers.Dense(32, activation='relu'))\n",
    "model.add(layers.Dense(2, activation='softmax'))\n",
    "\n",
    "model.summary()"
   ]
  },
  {
   "cell_type": "code",
   "execution_count": 251,
   "metadata": {},
   "outputs": [
    {
     "name": "stderr",
     "output_type": "stream",
     "text": [
      "C:\\Users\\admin\\anaconda3\\lib\\site-packages\\keras\\optimizer_v2\\optimizer_v2.py:355: UserWarning: The `lr` argument is deprecated, use `learning_rate` instead.\n",
      "  warnings.warn(\n"
     ]
    },
    {
     "name": "stdout",
     "output_type": "stream",
     "text": [
      "Epoch 1/10\n",
      "329/329 [==============================] - 24s 71ms/step - loss: 0.5298 - accuracy: 0.7285 - val_loss: 0.4568 - val_accuracy: 0.7791\n",
      "Epoch 2/10\n",
      "329/329 [==============================] - 22s 67ms/step - loss: 0.4735 - accuracy: 0.7717 - val_loss: 0.4494 - val_accuracy: 0.7846\n",
      "Epoch 3/10\n",
      "329/329 [==============================] - 22s 67ms/step - loss: 0.4680 - accuracy: 0.7742 - val_loss: 0.4454 - val_accuracy: 0.7897\n",
      "Epoch 4/10\n",
      "329/329 [==============================] - 22s 67ms/step - loss: 0.4599 - accuracy: 0.7794 - val_loss: 0.4388 - val_accuracy: 0.7923\n",
      "Epoch 5/10\n",
      "329/329 [==============================] - 22s 68ms/step - loss: 0.4563 - accuracy: 0.7835 - val_loss: 0.4431 - val_accuracy: 0.7917\n",
      "Epoch 6/10\n",
      "329/329 [==============================] - 22s 67ms/step - loss: 0.4539 - accuracy: 0.7837 - val_loss: 0.4334 - val_accuracy: 0.7946\n",
      "Epoch 7/10\n",
      "329/329 [==============================] - 22s 67ms/step - loss: 0.4496 - accuracy: 0.7865 - val_loss: 0.4326 - val_accuracy: 0.7911\n",
      "Epoch 8/10\n",
      "329/329 [==============================] - 22s 67ms/step - loss: 0.4426 - accuracy: 0.7929 - val_loss: 0.4264 - val_accuracy: 0.7994\n",
      "Epoch 9/10\n",
      "329/329 [==============================] - 22s 67ms/step - loss: 0.4446 - accuracy: 0.7908 - val_loss: 0.4280 - val_accuracy: 0.7994\n",
      "Epoch 10/10\n",
      "329/329 [==============================] - 22s 67ms/step - loss: 0.4371 - accuracy: 0.7954 - val_loss: 0.4297 - val_accuracy: 0.7983\n"
     ]
    }
   ],
   "source": [
    "adam = keras.optimizers.Adam(lr=0.001)\n",
    "es = [EarlyStopping(monitor ='val_loss',mode='min',patience =20), ModelCheckpoint(filepath='best_model.h5',monitor='val_loss',save_best_only=True)]\n",
    "\n",
    "model.compile(optimizer=adam,loss='categorical_crossentropy',metrics=['accuracy'])\n",
    "hist = model.fit(X_train, y_train, epochs=10, batch_size=64, validation_data=(X_val, y_val),callbacks=[es])"
   ]
  },
  {
   "cell_type": "code",
   "execution_count": 252,
   "metadata": {},
   "outputs": [
    {
     "data": {
      "text/plain": [
       "<matplotlib.legend.Legend at 0x287744f30a0>"
      ]
     },
     "execution_count": 252,
     "metadata": {},
     "output_type": "execute_result"
    },
    {
     "data": {
      "image/png": "[encoded data removed]",
      "text/plain": [
       "<Figure size 864x288 with 2 Axes>"
      ]
     },
     "metadata": {
      "needs_background": "light"
     },
     "output_type": "display_data"
    }
   ],
   "source": [
    "plt.figure(figsize=(12,4))\n",
    "plt.subplot(1, 2, 1)\n",
    "plt.plot(hist.history['accuracy'])\n",
    "plt.plot(hist.history['val_accuracy'])\n",
    "plt.title('model accuracy')\n",
    "plt.xlabel('epoch')\n",
    "plt.ylabel('accuracy')\n",
    "plt.legend(['train', 'validation'])\n",
    "\n",
    "plt.subplot(1, 2, 2)\n",
    "plt.plot(hist.history['loss'])\n",
    "plt.plot(hist.history['val_loss'])\n",
    "plt.title('model loss')\n",
    "plt.xlabel('epoch')\n",
    "plt.ylabel('loss')\n",
    "plt.legend(['train', 'validation'])"
   ]
  },
  {
   "cell_type": "code",
   "execution_count": 253,
   "metadata": {},
   "outputs": [
    {
     "name": "stdout",
     "output_type": "stream",
     "text": [
      "55/55 [==============================] - 1s 15ms/step - loss: 0.4401 - accuracy: 0.7960\n"
     ]
    }
   ],
   "source": [
    "import seaborn as sns\n",
    "from tensorflow.keras import backend as K\n",
    "from sklearn.neighbors import KNeighborsClassifier\n",
    "from sklearn.metrics import classification_report, confusion_matrix\n",
    "import sklearn\n",
    "\n",
    "loss_and_metrics = model.evaluate(X_test, y_test, batch_size=64)\n",
    "y_pred = model.predict(X_test)\n",
    "y_pred = np.ceil(y_pred-0.5)\n",
    "cf_matrix = confusion_matrix(y_test.argmax(axis=1), y_pred.argmax(axis=1))\n",
    "\n",
    "#knn evaluation_process\n",
    "layerIndex = 8\n",
    "func = K.function([model.get_layer(index=0).input], model.get_layer(index=layerIndex).output)\n",
    "X_train2 = func([X_train])  # input_data is a numpy array\n",
    "X_test2 = func([X_test])  # input_data is a numpy array\n",
    "X_val2 = func([X_val])\n",
    "\n",
    "X_train2 =sklearn.preprocessing.normalize(X_train2, norm='l2', axis=1, copy=True, return_norm=False)\n",
    "X_test2 =sklearn.preprocessing.normalize(X_test2, norm='l2', axis=1, copy=True, return_norm=False)\n",
    "X_val2 = sklearn.preprocessing.normalize(X_val2, norm='l2', axis=1, copy=True, return_norm=False)\n",
    "\n",
    "X_train2 = np.concatenate([X_train2, X_val2])\n",
    "y_train2 = np.concatenate([y_train, y_val])\n"
   ]
  },
  {
   "cell_type": "code",
   "execution_count": 260,
   "metadata": {},
   "outputs": [
    {
     "name": "stdout",
     "output_type": "stream",
     "text": [
      "0.796\n",
      "0.796\n",
      "(24500, 32)\n"
     ]
    }
   ],
   "source": [
    "from sklearn.metrics import accuracy_score\n",
    "classifier = KNeighborsClassifier(n_neighbors=1000)\n",
    "classifier.fit(X_train2, y_train2)\n",
    "\n",
    "y_pred2 = classifier.predict(X_test2)\n",
    "y_pred2 = np.ceil(y_pred2-0.5)\n",
    "\n",
    "acc_cnn = accuracy_score(y_test,y_pred)\n",
    "acc_knn= accuracy_score(y_test,y_pred2)\n",
    "\n",
    "print(acc_cnn)\n",
    "print(acc_knn)\n",
    "print(X_train2.shape)"
   ]
  },
  {
   "cell_type": "code",
   "execution_count": 138,
   "metadata": {},
   "outputs": [
    {
     "name": "stdout",
     "output_type": "stream",
     "text": [
      "              precision    recall  f1-score   support\n",
      "\n",
      "           0       0.77      0.88      0.82      1750\n",
      "           1       0.86      0.73      0.79      1750\n",
      "\n",
      "   micro avg       0.81      0.81      0.81      3500\n",
      "   macro avg       0.81      0.81      0.80      3500\n",
      "weighted avg       0.81      0.81      0.80      3500\n",
      " samples avg       0.81      0.81      0.81      3500\n",
      "\n",
      "              precision    recall  f1-score   support\n",
      "\n",
      "           0       0.76      0.90      0.82      1750\n",
      "           1       0.88      0.71      0.79      1750\n",
      "\n",
      "   micro avg       0.81      0.81      0.81      3500\n",
      "   macro avg       0.82      0.81      0.81      3500\n",
      "weighted avg       0.82      0.81      0.81      3500\n",
      " samples avg       0.81      0.81      0.81      3500\n",
      "\n"
     ]
    },
    {
     "name": "stderr",
     "output_type": "stream",
     "text": [
      "C:\\Users\\admin\\anaconda3\\lib\\site-packages\\sklearn\\metrics\\_classification.py:1245: UndefinedMetricWarning: Precision and F-score are ill-defined and being set to 0.0 in samples with no predicted labels. Use `zero_division` parameter to control this behavior.\n",
      "  _warn_prf(average, modifier, msg_start, len(result))\n"
     ]
    },
    {
     "data": {
      "text/plain": [
       "<AxesSubplot:>"
      ]
     },
     "execution_count": 138,
     "metadata": {},
     "output_type": "execute_result"
    },
    {
     "data": {
      "image/png": "[encoded data removed]",
      "text/plain": [
       "<Figure size 432x288 with 4 Axes>"
      ]
     },
     "metadata": {
      "needs_background": "light"
     },
     "output_type": "display_data"
    }
   ],
   "source": [
    "cf_matrix2 = confusion_matrix(y_test.argmax(axis=1), y_pred2.argmax(axis=1))\n",
    "\n",
    "print(classification_report(y_test, y_pred))\n",
    "print(classification_report(y_test, y_pred2))\n",
    "\n",
    "fig, ax = plt.subplots(1,2)\n",
    "sns.heatmap(cf_matrix/np.sum(cf_matrix), annot=True, fmt = '.2%', cmap='Blues' ,ax=ax[0])\n",
    "sns.heatmap(cf_matrix2/np.sum(cf_matrix2), annot=True, fmt = '.2%', cmap='Blues',ax=ax[1])"
   ]
  }
 ],
 "metadata": {
  "interpreter": {
   "hash": "ef7f9a8012d9131766e31894c279374cc63c73121ed4db3b9e67a294a4bf0e74"
  },
  "kernelspec": {
   "display_name": "Python 3.8.8 64-bit ('base': conda)",
   "language": "python",
   "name": "python3"
  },
  "language_info": {
   "codemirror_mode": {
    "name": "ipython",
    "version": 3
   },
   "file_extension": ".py",
   "mimetype": "text/x-python",
   "name": "python",
   "nbconvert_exporter": "python",
   "pygments_lexer": "ipython3",
   "version": "3.8.8"
  },
  "orig_nbformat": 4
 },
 "nbformat": 4,
 "nbformat_minor": 2
}
