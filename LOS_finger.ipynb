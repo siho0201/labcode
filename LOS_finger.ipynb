{
 "cells": [
  {
   "cell_type": "code",
   "execution_count": null,
   "metadata": {},
   "outputs": [],
   "source": [
    "import numpy as np\n",
    "import tensorflow as tf\n",
    "from tensorflow import keras\n",
    "from keras import optimizers\n",
    "from keras.models import Sequential\n",
    "from keras.layers import Dense\n",
    "from sklearn.utils import shuffle\n",
    "from sklearn.model_selection import train_test_split \n",
    "from sklearn.metrics import mean_squared_error\n",
    "from sklearn.linear_model import LogisticRegression\n",
    "from sklearn.metrics import confusion_matrix\n",
    "import random\n",
    "import matplotlib.pyplot as plt\n",
    "import pandas as pd\n",
    "from tensorflow.keras.callbacks import EarlyStopping,ModelCheckpoint\n",
    "from sklearn.model_selection import train_test_split\n",
    "\n",
    "file1 = pd.read_csv(r'C:\\Users\\tlghf\\code\\dataset\\5E_LOS_DATA_3m.csv')\n",
    "file2 = pd.read_csv(r'C:\\Users\\tlghf\\code\\dataset\\LH_LOS_DATA_5m.csv')\n",
    "file3 = pd.read_csv(r'C:\\Users\\tlghf\\code\\dataset\\MP_LOS_DATA_3m.csv')\n",
    "\n",
    "df = pd.concat([file1,file2,file3])\n",
    "\n",
    "X = df.drop([\"LOS\",\"Distance\"], axis=1,inplace=False)\n",
    "y = df[\"LOS\"]\n",
    "\n",
    "X_train, X_test, y_train, y_test = train_test_split(X,y,test_size=0.33, random_state=42)\n",
    "X_test, X_val, y_test, y_val = train_test_split(X_test,y_test,test_size=0.5, random_state=42)\n",
    "\n",
    "print('X_train.shape:' + str(X_train.shape))\n",
    "print('y_train.shape:' + str(y_train.shape))\n",
    "print('X_val.shape:' + str(X_val.shape))\n",
    "print('y_val.shape:' + str(y_val.shape))\n",
    "print('X_test.shape:' + str(X_test.shape))\n",
    "print('y_test.shape:' + str(y_test.shape))"
   ]
  }
 ],
 "metadata": {
  "language_info": {
   "name": "python"
  },
  "orig_nbformat": 4
 },
 "nbformat": 4,
 "nbformat_minor": 2
}
