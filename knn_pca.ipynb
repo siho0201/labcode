{
 "cells": [
  {
   "cell_type": "code",
   "execution_count": 1,
   "metadata": {},
   "outputs": [
    {
     "name": "stdout",
     "output_type": "stream",
     "text": [
      "(2000, 30000)\n"
     ]
    }
   ],
   "source": [
    "import numpy as np\n",
    "import tensorflow as tf\n",
    "from tensorflow import keras\n",
    "from keras import optimizers, layers\n",
    "from keras.models import Sequential\n",
    "from keras.layers import Dense\n",
    "import os\n",
    "import glob\n",
    "from glob import glob\n",
    "from tensorflow.keras.preprocessing.text import text_to_word_sequence\n",
    "from sklearn.preprocessing import LabelEncoder\n",
    "from sklearn.model_selection import train_test_split\n",
    "from tensorflow.keras.callbacks import EarlyStopping,ModelCheckpoint\n",
    "import cv2\n",
    "from matplotlib import pyplot as plt\n",
    "from keras.models import Sequential\n",
    "from sklearn.neighbors import KNeighborsClassifier\n",
    "from sklearn.metrics import classification_report, confusion_matrix\n",
    "from sklearn.preprocessing import StandardScaler\n",
    "from sklearn.manifold import TSNE\n",
    "from sklearn.decomposition import PCA\n",
    "\n",
    "data_dir = os.chdir(r'C:\\Users\\admin\\OneDrive\\바탕 화면\\code\\dataset\\image\\sample2_cw')\n",
    "data_list = glob('*.jpg')\n",
    "batch_size = len(data_list)\n",
    "\n",
    "label = []\n",
    "images = np.zeros((batch_size, 100, 100, 3))\n",
    "\n",
    "for n, path in enumerate(data_list[:batch_size]):\n",
    "    # lable \n",
    "    token = text_to_word_sequence(data_list[n])\n",
    "    label.append(token[0])\n",
    "    image = cv2.imread(data_list[n])\n",
    "    image = cv2.resize(image, (100, 100))/255\n",
    "    images[n, :, :, :] =image\n",
    "\n",
    "##image = image.reshape(-1,256*256*3)/255\n",
    "\n",
    "images=images.reshape(-1,100*100*3)\n",
    "print(images.shape)\n",
    "label = np.array(label)\n",
    "items = label\n",
    "encoder = LabelEncoder()\n",
    "encoder.fit(items)\n",
    "label = encoder.transform(items)"
   ]
  },
  {
   "cell_type": "code",
   "execution_count": 22,
   "metadata": {},
   "outputs": [
    {
     "name": "stdout",
     "output_type": "stream",
     "text": [
      "[[-2.73956133  2.8901323   1.2061852  ... -0.79682444  0.70364115\n",
      "  -1.339473  ]\n",
      " [ 2.0002266   1.47675901  0.01062742 ... -0.56700689  2.26393397\n",
      "  -0.38526343]\n",
      " [-1.00853949  0.46657972 -1.40478242 ...  2.65027167  0.03043065\n",
      "  -0.43106315]\n",
      " ...\n",
      " [-1.19938815  2.9912492  -0.92942036 ... -0.40599533  0.15211227\n",
      "  -0.26607989]\n",
      " [ 2.1709722  -0.23193069 -0.65761408 ...  0.92669243  0.36347831\n",
      "   1.16058932]\n",
      " [ 0.24376632  2.56398733  1.54241896 ... -1.00848456  0.71843484\n",
      "  -0.53966733]]\n"
     ]
    }
   ],
   "source": [
    "pca = PCA(n_components=10)\n",
    "pca_result = pca.fit_transform(images)\n",
    "print(pca_result)"
   ]
  },
  {
   "cell_type": "code",
   "execution_count": 25,
   "metadata": {},
   "outputs": [
    {
     "name": "stdout",
     "output_type": "stream",
     "text": [
      "[[265  27]\n",
      " [113 195]]\n",
      "              precision    recall  f1-score   support\n",
      "\n",
      "           0       0.70      0.91      0.79       292\n",
      "           1       0.88      0.63      0.74       308\n",
      "\n",
      "    accuracy                           0.77       600\n",
      "   macro avg       0.79      0.77      0.76       600\n",
      "weighted avg       0.79      0.77      0.76       600\n",
      "\n"
     ]
    }
   ],
   "source": [
    "X_train,X_test,y_train,y_test = train_test_split(pca_result,label,test_size=0.3,random_state=1004)\n",
    "\n",
    "classifier = KNeighborsClassifier(n_neighbors=10)\n",
    "classifier.fit(X_train, y_train)\n",
    "\n",
    "y_pred = classifier.predict(X_test)\n",
    "\n",
    "print(confusion_matrix(y_test, y_pred))\n",
    "print(classification_report(y_test, y_pred))"
   ]
  },
  {
   "cell_type": "code",
   "execution_count": 26,
   "metadata": {},
   "outputs": [
    {
     "name": "stdout",
     "output_type": "stream",
     "text": [
      "cf_matrix:[[265  27]\n",
      " [113 195]]\n"
     ]
    },
    {
     "data": {
      "text/plain": [
       "<AxesSubplot:>"
      ]
     },
     "execution_count": 26,
     "metadata": {},
     "output_type": "execute_result"
    },
    {
     "data": {
      "image/png": "[encoded data removed]",
      "text/plain": [
       "<Figure size 432x288 with 2 Axes>"
      ]
     },
     "metadata": {
      "needs_background": "light"
     },
     "output_type": "display_data"
    }
   ],
   "source": [
    "import seaborn as sns\n",
    "from sklearn.metrics import confusion_matrix\n",
    "\n",
    "cf_matrix = confusion_matrix(y_test, y_pred)\n",
    "print('cf_matrix:' + str(cf_matrix))\n",
    "sns.heatmap(cf_matrix/np.sum(cf_matrix), annot=True, fmt = '.2%', cmap='Blues')"
   ]
  }
 ],
 "metadata": {
  "interpreter": {
   "hash": "ef7f9a8012d9131766e31894c279374cc63c73121ed4db3b9e67a294a4bf0e74"
  },
  "kernelspec": {
   "display_name": "Python 3.8.8 64-bit ('base': conda)",
   "language": "python",
   "name": "python3"
  },
  "language_info": {
   "codemirror_mode": {
    "name": "ipython",
    "version": 3
   },
   "file_extension": ".py",
   "mimetype": "text/x-python",
   "name": "python",
   "nbconvert_exporter": "python",
   "pygments_lexer": "ipython3",
   "version": "3.8.8"
  },
  "orig_nbformat": 4
 },
 "nbformat": 4,
 "nbformat_minor": 2
}
